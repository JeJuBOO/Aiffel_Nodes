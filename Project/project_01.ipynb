{
 "cells": [
  {
   "attachments": {},
   "cell_type": "markdown",
   "metadata": {},
   "source": [
    "1. 데이터 가져오기\n",
    "    + sklearn.datasets의 load_diabetes에서 데이터를 가져와주세요.\n",
    "    + diabetes의 data를 df_X에, target을 df_y에 저장해주세요."
   ]
  },
  {
   "cell_type": "code",
   "execution_count": 1,
   "metadata": {},
   "outputs": [
    {
     "name": "stdout",
     "output_type": "stream",
     "text": [
      "(442, 10)\n"
     ]
    }
   ],
   "source": [
    "from sklearn.datasets import load_diabetes\n",
    "# 데이터셋 가져오기\n",
    "diabetes=load_diabetes()\n",
    "\n",
    "df_X=diabetes.data\n",
    "df_y=diabetes.target\n",
    "\n",
    "print(df_X.shape)"
   ]
  },
  {
   "cell_type": "code",
   "execution_count": 2,
   "metadata": {},
   "outputs": [
    {
     "data": {
      "text/html": [
       "<div>\n",
       "<style scoped>\n",
       "    .dataframe tbody tr th:only-of-type {\n",
       "        vertical-align: middle;\n",
       "    }\n",
       "\n",
       "    .dataframe tbody tr th {\n",
       "        vertical-align: top;\n",
       "    }\n",
       "\n",
       "    .dataframe thead th {\n",
       "        text-align: right;\n",
       "    }\n",
       "</style>\n",
       "<table border=\"1\" class=\"dataframe\">\n",
       "  <thead>\n",
       "    <tr style=\"text-align: right;\">\n",
       "      <th></th>\n",
       "      <th>age</th>\n",
       "      <th>sex</th>\n",
       "      <th>bmi</th>\n",
       "      <th>bp</th>\n",
       "      <th>s1</th>\n",
       "      <th>s2</th>\n",
       "      <th>s3</th>\n",
       "      <th>s4</th>\n",
       "      <th>s5</th>\n",
       "      <th>s6</th>\n",
       "      <th>target</th>\n",
       "    </tr>\n",
       "  </thead>\n",
       "  <tbody>\n",
       "    <tr>\n",
       "      <th>age</th>\n",
       "      <td>1.000000</td>\n",
       "      <td>0.173737</td>\n",
       "      <td>0.185085</td>\n",
       "      <td>0.335428</td>\n",
       "      <td>0.260061</td>\n",
       "      <td>0.219243</td>\n",
       "      <td>-0.075181</td>\n",
       "      <td>0.203841</td>\n",
       "      <td>0.270774</td>\n",
       "      <td>0.301731</td>\n",
       "      <td>0.187889</td>\n",
       "    </tr>\n",
       "    <tr>\n",
       "      <th>sex</th>\n",
       "      <td>0.173737</td>\n",
       "      <td>1.000000</td>\n",
       "      <td>0.088161</td>\n",
       "      <td>0.241010</td>\n",
       "      <td>0.035277</td>\n",
       "      <td>0.142637</td>\n",
       "      <td>-0.379090</td>\n",
       "      <td>0.332115</td>\n",
       "      <td>0.149916</td>\n",
       "      <td>0.208133</td>\n",
       "      <td>0.043062</td>\n",
       "    </tr>\n",
       "    <tr>\n",
       "      <th>bmi</th>\n",
       "      <td>0.185085</td>\n",
       "      <td>0.088161</td>\n",
       "      <td>1.000000</td>\n",
       "      <td>0.395411</td>\n",
       "      <td>0.249777</td>\n",
       "      <td>0.261170</td>\n",
       "      <td>-0.366811</td>\n",
       "      <td>0.413807</td>\n",
       "      <td>0.446157</td>\n",
       "      <td>0.388680</td>\n",
       "      <td>0.586450</td>\n",
       "    </tr>\n",
       "    <tr>\n",
       "      <th>bp</th>\n",
       "      <td>0.335428</td>\n",
       "      <td>0.241010</td>\n",
       "      <td>0.395411</td>\n",
       "      <td>1.000000</td>\n",
       "      <td>0.242464</td>\n",
       "      <td>0.185548</td>\n",
       "      <td>-0.178762</td>\n",
       "      <td>0.257650</td>\n",
       "      <td>0.393480</td>\n",
       "      <td>0.390430</td>\n",
       "      <td>0.441482</td>\n",
       "    </tr>\n",
       "    <tr>\n",
       "      <th>s1</th>\n",
       "      <td>0.260061</td>\n",
       "      <td>0.035277</td>\n",
       "      <td>0.249777</td>\n",
       "      <td>0.242464</td>\n",
       "      <td>1.000000</td>\n",
       "      <td>0.896663</td>\n",
       "      <td>0.051519</td>\n",
       "      <td>0.542207</td>\n",
       "      <td>0.515503</td>\n",
       "      <td>0.325717</td>\n",
       "      <td>0.212022</td>\n",
       "    </tr>\n",
       "    <tr>\n",
       "      <th>s2</th>\n",
       "      <td>0.219243</td>\n",
       "      <td>0.142637</td>\n",
       "      <td>0.261170</td>\n",
       "      <td>0.185548</td>\n",
       "      <td>0.896663</td>\n",
       "      <td>1.000000</td>\n",
       "      <td>-0.196455</td>\n",
       "      <td>0.659817</td>\n",
       "      <td>0.318357</td>\n",
       "      <td>0.290600</td>\n",
       "      <td>0.174054</td>\n",
       "    </tr>\n",
       "    <tr>\n",
       "      <th>s3</th>\n",
       "      <td>-0.075181</td>\n",
       "      <td>-0.379090</td>\n",
       "      <td>-0.366811</td>\n",
       "      <td>-0.178762</td>\n",
       "      <td>0.051519</td>\n",
       "      <td>-0.196455</td>\n",
       "      <td>1.000000</td>\n",
       "      <td>-0.738493</td>\n",
       "      <td>-0.398577</td>\n",
       "      <td>-0.273697</td>\n",
       "      <td>-0.394789</td>\n",
       "    </tr>\n",
       "    <tr>\n",
       "      <th>s4</th>\n",
       "      <td>0.203841</td>\n",
       "      <td>0.332115</td>\n",
       "      <td>0.413807</td>\n",
       "      <td>0.257650</td>\n",
       "      <td>0.542207</td>\n",
       "      <td>0.659817</td>\n",
       "      <td>-0.738493</td>\n",
       "      <td>1.000000</td>\n",
       "      <td>0.617859</td>\n",
       "      <td>0.417212</td>\n",
       "      <td>0.430453</td>\n",
       "    </tr>\n",
       "    <tr>\n",
       "      <th>s5</th>\n",
       "      <td>0.270774</td>\n",
       "      <td>0.149916</td>\n",
       "      <td>0.446157</td>\n",
       "      <td>0.393480</td>\n",
       "      <td>0.515503</td>\n",
       "      <td>0.318357</td>\n",
       "      <td>-0.398577</td>\n",
       "      <td>0.617859</td>\n",
       "      <td>1.000000</td>\n",
       "      <td>0.464669</td>\n",
       "      <td>0.565883</td>\n",
       "    </tr>\n",
       "    <tr>\n",
       "      <th>s6</th>\n",
       "      <td>0.301731</td>\n",
       "      <td>0.208133</td>\n",
       "      <td>0.388680</td>\n",
       "      <td>0.390430</td>\n",
       "      <td>0.325717</td>\n",
       "      <td>0.290600</td>\n",
       "      <td>-0.273697</td>\n",
       "      <td>0.417212</td>\n",
       "      <td>0.464669</td>\n",
       "      <td>1.000000</td>\n",
       "      <td>0.382483</td>\n",
       "    </tr>\n",
       "    <tr>\n",
       "      <th>target</th>\n",
       "      <td>0.187889</td>\n",
       "      <td>0.043062</td>\n",
       "      <td>0.586450</td>\n",
       "      <td>0.441482</td>\n",
       "      <td>0.212022</td>\n",
       "      <td>0.174054</td>\n",
       "      <td>-0.394789</td>\n",
       "      <td>0.430453</td>\n",
       "      <td>0.565883</td>\n",
       "      <td>0.382483</td>\n",
       "      <td>1.000000</td>\n",
       "    </tr>\n",
       "  </tbody>\n",
       "</table>\n",
       "</div>"
      ],
      "text/plain": [
       "             age       sex       bmi        bp        s1        s2        s3  \\\n",
       "age     1.000000  0.173737  0.185085  0.335428  0.260061  0.219243 -0.075181   \n",
       "sex     0.173737  1.000000  0.088161  0.241010  0.035277  0.142637 -0.379090   \n",
       "bmi     0.185085  0.088161  1.000000  0.395411  0.249777  0.261170 -0.366811   \n",
       "bp      0.335428  0.241010  0.395411  1.000000  0.242464  0.185548 -0.178762   \n",
       "s1      0.260061  0.035277  0.249777  0.242464  1.000000  0.896663  0.051519   \n",
       "s2      0.219243  0.142637  0.261170  0.185548  0.896663  1.000000 -0.196455   \n",
       "s3     -0.075181 -0.379090 -0.366811 -0.178762  0.051519 -0.196455  1.000000   \n",
       "s4      0.203841  0.332115  0.413807  0.257650  0.542207  0.659817 -0.738493   \n",
       "s5      0.270774  0.149916  0.446157  0.393480  0.515503  0.318357 -0.398577   \n",
       "s6      0.301731  0.208133  0.388680  0.390430  0.325717  0.290600 -0.273697   \n",
       "target  0.187889  0.043062  0.586450  0.441482  0.212022  0.174054 -0.394789   \n",
       "\n",
       "              s4        s5        s6    target  \n",
       "age     0.203841  0.270774  0.301731  0.187889  \n",
       "sex     0.332115  0.149916  0.208133  0.043062  \n",
       "bmi     0.413807  0.446157  0.388680  0.586450  \n",
       "bp      0.257650  0.393480  0.390430  0.441482  \n",
       "s1      0.542207  0.515503  0.325717  0.212022  \n",
       "s2      0.659817  0.318357  0.290600  0.174054  \n",
       "s3     -0.738493 -0.398577 -0.273697 -0.394789  \n",
       "s4      1.000000  0.617859  0.417212  0.430453  \n",
       "s5      0.617859  1.000000  0.464669  0.565883  \n",
       "s6      0.417212  0.464669  1.000000  0.382483  \n",
       "target  0.430453  0.565883  0.382483  1.000000  "
      ]
     },
     "execution_count": 2,
     "metadata": {},
     "output_type": "execute_result"
    }
   ],
   "source": [
    "import pandas as pd\n",
    "import numpy as np\n",
    "# print(\"컬럼 목록 : \",diabetes.feature_names)\n",
    "\n",
    "df = pd.DataFrame(data=diabetes.data, columns=diabetes.feature_names)\n",
    "df['target'] = diabetes.target\n",
    "df.head()\n",
    "\n",
    "df.corr()"
   ]
  },
  {
   "attachments": {},
   "cell_type": "markdown",
   "metadata": {},
   "source": [
    "2. 모델에 입력할 데이터 X 준비하기\n",
    "    + df_X에 있는 값들을 numpy array로 변환해서 저장해주세요."
   ]
  },
  {
   "cell_type": "code",
   "execution_count": 3,
   "metadata": {},
   "outputs": [],
   "source": [
    "df_X = np.array(df_X)"
   ]
  },
  {
   "attachments": {},
   "cell_type": "markdown",
   "metadata": {},
   "source": [
    "3. 모델에 예측할 데이터 y 준비하기\n",
    "    + df_y에 있는 값들을 numpy array로 변환해서 저장해주세요."
   ]
  },
  {
   "cell_type": "code",
   "execution_count": 4,
   "metadata": {},
   "outputs": [],
   "source": [
    "df_y = np.array(df_y)"
   ]
  },
  {
   "attachments": {},
   "cell_type": "markdown",
   "metadata": {},
   "source": [
    "4. train 데이터와 test 데이터로 분리하기\n",
    "    + X와 y 데이터를 각각 train 데이터와 test 데이터로 분리해주세요."
   ]
  },
  {
   "cell_type": "code",
   "execution_count": 5,
   "metadata": {},
   "outputs": [
    {
     "name": "stdout",
     "output_type": "stream",
     "text": [
      "훈렵집합과 테스트집합의 입력값의 shape\n",
      " (353, 10) (89, 10)\n",
      "훈렵집합과 테스트집합의 정답(label)값의 shape\n",
      " (353,) (89,)\n"
     ]
    }
   ],
   "source": [
    "from sklearn.model_selection import train_test_split\n",
    "# test_size는 훈련집합과 테스트집합의 비율로(0.8:0.2)을 의미\n",
    "# random_state는 랜덤으로 훈련집합과 테스트집합을 나누기 때문에 반복 수행마다 \n",
    "#   달라지는 것을 방지하기  위한 랜덤의 seed번호이다. \n",
    "X_train, X_test, y_train, y_test = \\\n",
    "    train_test_split(df_X, df_y,test_size=0.2,random_state=41)\n",
    "\n",
    "print('훈렵집합과 테스트집합의 입력값의 shape\\n',X_train.shape,X_test.shape)\n",
    "print('훈렵집합과 테스트집합의 정답(label)값의 shape\\n',y_train.shape,y_test.shape)"
   ]
  },
  {
   "attachments": {},
   "cell_type": "markdown",
   "metadata": {},
   "source": [
    "5. 모델 준비하기\n",
    "    + 입력 데이터 개수에 맞는 가중치 W와 b를 준비해주세요.\n",
    "    + 모델 함수를 구현해주세요."
   ]
  },
  {
   "cell_type": "code",
   "execution_count": 6,
   "metadata": {},
   "outputs": [],
   "source": [
    "# 입력데이터의 컬럼이 10개이고 정답데이터의 컬럼이 1개이 때문에\n",
    "W = np.random.rand(X_train.shape[1])\n",
    "b = np.random.rand(1)\n",
    "\n",
    "def model(x,w,b):\n",
    "    pred = 0\n",
    "    for i in range(w.shape[0]):\n",
    "        pred += x[:,i]*w[i]\n",
    "    pred += b\n",
    "    return pred"
   ]
  },
  {
   "attachments": {},
   "cell_type": "markdown",
   "metadata": {},
   "source": [
    "6. 손실함수 loss 정의하기\n",
    "    + 손실함수를 MSE 함수로 정의해주세요."
   ]
  },
  {
   "cell_type": "code",
   "execution_count": 7,
   "metadata": {},
   "outputs": [],
   "source": [
    "# mean square error\n",
    "def MSE(a, b):\n",
    "    return ((a - b)**2).mean()"
   ]
  },
  {
   "attachments": {},
   "cell_type": "markdown",
   "metadata": {},
   "source": [
    "7. 기울기를 구하는 gradient 함수 구현하기\n",
    "    + 기울기를 계산하는 gradient 함수를 구현해주세요"
   ]
  },
  {
   "attachments": {},
   "cell_type": "markdown",
   "metadata": {},
   "source": [
    "$$\\frac{\\partial L}{\\partial W}=\\frac{1}{N}\\sum_{i=1}^N 2x_i(\\hat{y_{i}}-y_i)$$\n",
    "$$\\frac{\\partial L}{\\partial b}=\\frac{1}{N}\\sum_{i=1}^N 2(\\hat{y_{i}}-y_i)$$"
   ]
  },
  {
   "cell_type": "code",
   "execution_count": 8,
   "metadata": {},
   "outputs": [],
   "source": [
    "def gradient(x, w, b, y):\n",
    "    N = len(y)\n",
    "    y_pred = model(x, w, b)\n",
    "    \n",
    "    dW = 1/N * 2 * x.T.dot(y_pred - y) # 데이터들의 합은 행렬곱으로 진행됨\n",
    "    db = 2 * (y_pred - y).mean()\n",
    "    return dW, db"
   ]
  },
  {
   "attachments": {},
   "cell_type": "markdown",
   "metadata": {},
   "source": [
    "8. 하이퍼 파라미터인 학습률 설정하기\n",
    "    + 학습률, learning rate 를 설정해주세요\n",
    "    + 만약 학습이 잘 되지 않는다면 learning rate 값을 한번 여러 가지로 설정하며 실험해 보세요."
   ]
  },
  {
   "cell_type": "code",
   "execution_count": 9,
   "metadata": {},
   "outputs": [],
   "source": [
    "lr = 0.5"
   ]
  },
  {
   "attachments": {},
   "cell_type": "markdown",
   "metadata": {},
   "source": [
    "9. 모델 학습하기\n",
    "    + 정의된 손실함수와 기울기 함수로 모델을 학습해주세요.\n",
    "    + loss값이 충분히 떨어질 때까지 학습을 진행해주세요.\n",
    "    + 입력하는 데이터인 X에 들어가는 특성 컬럼들을 몇 개 빼도 괜찮습니다. 다양한 데이터로 실험해 보세요."
   ]
  },
  {
   "cell_type": "code",
   "execution_count": 10,
   "metadata": {},
   "outputs": [
    {
     "name": "stdout",
     "output_type": "stream",
     "text": [
      "Iteration 100 : Loss 3971.4591\n",
      "Iteration 200 : Loss 3452.3146\n",
      "Iteration 300 : Loss 3238.4474\n",
      "Iteration 400 : Loss 3121.2334\n",
      "Iteration 500 : Loss 3049.1911\n",
      "Iteration 600 : Loss 3003.1769\n",
      "Iteration 700 : Loss 2973.3320\n",
      "Iteration 800 : Loss 2953.7883\n",
      "Iteration 900 : Loss 2940.8787\n",
      "Iteration 1000 : Loss 2932.2718\n",
      "Iteration 1100 : Loss 2926.4729\n",
      "Iteration 1200 : Loss 2922.5184\n",
      "Iteration 1300 : Loss 2919.7833\n",
      "Iteration 1400 : Loss 2917.8602\n",
      "Iteration 1500 : Loss 2916.4822\n",
      "Iteration 1600 : Loss 2915.4730\n",
      "Iteration 1700 : Loss 2914.7157\n",
      "Iteration 1800 : Loss 2914.1320\n",
      "Iteration 1900 : Loss 2913.6692\n",
      "Iteration 2000 : Loss 2913.2915\n",
      "Iteration 2100 : Loss 2912.9744\n",
      "Iteration 2200 : Loss 2912.7008\n",
      "Iteration 2300 : Loss 2912.4589\n",
      "Iteration 2400 : Loss 2912.2403\n",
      "Iteration 2500 : Loss 2912.0391\n",
      "Iteration 2600 : Loss 2911.8510\n",
      "Iteration 2700 : Loss 2911.6728\n",
      "Iteration 2800 : Loss 2911.5023\n",
      "Iteration 2900 : Loss 2911.3378\n",
      "Iteration 3000 : Loss 2911.1780\n",
      "Iteration 3100 : Loss 2911.0220\n",
      "Iteration 3200 : Loss 2910.8690\n",
      "Iteration 3300 : Loss 2910.7185\n",
      "Iteration 3400 : Loss 2910.5700\n",
      "Iteration 3500 : Loss 2910.4233\n",
      "Iteration 3600 : Loss 2910.2781\n",
      "Iteration 3700 : Loss 2910.1341\n",
      "Iteration 3800 : Loss 2909.9913\n",
      "Iteration 3900 : Loss 2909.8494\n",
      "Iteration 4000 : Loss 2909.7085\n",
      "Iteration 4100 : Loss 2909.5684\n",
      "Iteration 4200 : Loss 2909.4291\n",
      "Iteration 4300 : Loss 2909.2905\n",
      "Iteration 4400 : Loss 2909.1526\n",
      "Iteration 4500 : Loss 2909.0153\n",
      "Iteration 4600 : Loss 2908.8787\n",
      "Iteration 4700 : Loss 2908.7427\n",
      "Iteration 4800 : Loss 2908.6072\n",
      "Iteration 4900 : Loss 2908.4724\n",
      "Iteration 5000 : Loss 2908.3381\n",
      "[ -31.65524211 -254.31276304  551.21533657  274.01102531 -156.6564113\n",
      "  -73.61694423 -204.01531768  143.41852266  462.58597177  118.75279278] [151.35075952]\n"
     ]
    }
   ],
   "source": [
    "losses_save = []\n",
    "iter_n = 5001\n",
    "\n",
    "# def remake_input(x):\n",
    "#     new_input = np.delete(x,1,axis=1)*100\n",
    "#     return new_input\n",
    "    \n",
    "# X_train_remake = remake_input(X_train)\n",
    "# X_test_remake = remake_input(X_test)\n",
    "\n",
    "# W = np.random.rand(X_train_remake.shape[1])\n",
    "# b = np.random.rand(1)\n",
    "\n",
    "for i in range(1, iter_n):\n",
    "    dW, db = gradient(X_train, W, b, y_train)\n",
    "    W -= lr * dW\n",
    "    b -= lr * db\n",
    "    \n",
    "    y_pred = model(X_train,W,b)\n",
    "    L = MSE(y_pred,y_train)\n",
    "    losses_save.append(L)\n",
    "    if i % 100 == 0:\n",
    "        print('Iteration %d : Loss %0.4f' % (i, L))\n",
    "print(W,b)"
   ]
  },
  {
   "attachments": {},
   "cell_type": "markdown",
   "metadata": {},
   "source": [
    "10. test 데이터에 대한 성능 확인하기\n",
    "    + test 데이터에 대한 성능을 확인해주세요."
   ]
  },
  {
   "cell_type": "code",
   "execution_count": 11,
   "metadata": {},
   "outputs": [
    {
     "name": "stdout",
     "output_type": "stream",
     "text": [
      "test데이터의 MSE값은 :  2839.609555580836\n"
     ]
    }
   ],
   "source": [
    "test_pred = model(X_test, W, b)\n",
    "test_mse = MSE(test_pred,y_test)\n",
    "\n",
    "print(\"test데이터의 MSE값은 : \",test_mse)"
   ]
  },
  {
   "attachments": {},
   "cell_type": "markdown",
   "metadata": {},
   "source": [
    "11. 정답 데이터와 예측한 데이터 시각화하기\n",
    "    + x축에는 X 데이터의 첫 번째 컬럼을, y축에는 정답인 target 데이터를 넣어서 모델이 예측한 데이터를 시각화해 주세요."
   ]
  },
  {
   "cell_type": "code",
   "execution_count": 12,
   "metadata": {},
   "outputs": [
    {
     "data": {
      "image/png": "[encoded data removed]",
      "text/plain": [
       "<Figure size 640x480 with 1 Axes>"
      ]
     },
     "metadata": {},
     "output_type": "display_data"
    }
   ],
   "source": [
    "import matplotlib.pyplot as plt\n",
    "x = np.linspace(-0.1,0.1,10)\n",
    "plt.scatter(X_test[:,0], test_pred, label=\"prediction\")\n",
    "plt.scatter(X_test[:,0], y_test, label=\"Real\")\n",
    "plt.legend()\n",
    "plt.show()"
   ]
  },
  {
   "cell_type": "code",
   "execution_count": 13,
   "metadata": {},
   "outputs": [
    {
     "data": {
      "image/png": "[encoded data removed]",
      "text/plain": [
       "<Figure size 640x480 with 1 Axes>"
      ]
     },
     "metadata": {},
     "output_type": "display_data"
    }
   ],
   "source": [
    "plt.plot(losses_save)\n",
    "plt.show()"
   ]
  }
 ],
 "metadata": {
  "kernelspec": {
   "display_name": "base",
   "language": "python",
   "name": "python3"
  },
  "language_info": {
   "codemirror_mode": {
    "name": "ipython",
    "version": 3
   },
   "file_extension": ".py",
   "mimetype": "text/x-python",
   "name": "python",
   "nbconvert_exporter": "python",
   "pygments_lexer": "ipython3",
   "version": "3.10.9"
  },
  "orig_nbformat": 4
 },
 "nbformat": 4,
 "nbformat_minor": 2
}
