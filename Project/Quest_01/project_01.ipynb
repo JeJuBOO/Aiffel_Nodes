{
 "cells": [
  {
   "attachments": {},
   "cell_type": "markdown",
   "metadata": {},
   "source": [
    "1. 데이터 가져오기\n",
    "    + sklearn.datasets의 load_diabetes에서 데이터를 가져와주세요.\n",
    "    + diabetes의 data를 df_X에, target을 df_y에 저장해주세요."
   ]
  },
  {
   "cell_type": "code",
   "execution_count": 6,
   "metadata": {},
   "outputs": [
    {
     "name": "stdout",
     "output_type": "stream",
     "text": [
      "(442, 10)\n"
     ]
    }
   ],
   "source": [
    "from sklearn.datasets import load_diabetes\n",
    "# 데이터셋 가져오기\n",
    "diabetes=load_diabetes()\n",
    "\n",
    "df_X=diabetes.data\n",
    "df_y=diabetes.target\n",
    "\n",
    "print(df_X.shape)"
   ]
  },
  {
   "cell_type": "code",
   "execution_count": 7,
   "metadata": {},
   "outputs": [
    {
     "data": {
      "text/html": [
       "<div>\n",
       "<style scoped>\n",
       "    .dataframe tbody tr th:only-of-type {\n",
       "        vertical-align: middle;\n",
       "    }\n",
       "\n",
       "    .dataframe tbody tr th {\n",
       "        vertical-align: top;\n",
       "    }\n",
       "\n",
       "    .dataframe thead th {\n",
       "        text-align: right;\n",
       "    }\n",
       "</style>\n",
       "<table border=\"1\" class=\"dataframe\">\n",
       "  <thead>\n",
       "    <tr style=\"text-align: right;\">\n",
       "      <th></th>\n",
       "      <th>age</th>\n",
       "      <th>sex</th>\n",
       "      <th>bmi</th>\n",
       "      <th>bp</th>\n",
       "      <th>s1</th>\n",
       "      <th>s2</th>\n",
       "      <th>s3</th>\n",
       "      <th>s4</th>\n",
       "      <th>s5</th>\n",
       "      <th>s6</th>\n",
       "      <th>target</th>\n",
       "    </tr>\n",
       "  </thead>\n",
       "  <tbody>\n",
       "    <tr>\n",
       "      <th>0</th>\n",
       "      <td>0.038076</td>\n",
       "      <td>0.050680</td>\n",
       "      <td>0.061696</td>\n",
       "      <td>0.021872</td>\n",
       "      <td>-0.044223</td>\n",
       "      <td>-0.034821</td>\n",
       "      <td>-0.043401</td>\n",
       "      <td>-0.002592</td>\n",
       "      <td>0.019907</td>\n",
       "      <td>-0.017646</td>\n",
       "      <td>151.0</td>\n",
       "    </tr>\n",
       "    <tr>\n",
       "      <th>1</th>\n",
       "      <td>-0.001882</td>\n",
       "      <td>-0.044642</td>\n",
       "      <td>-0.051474</td>\n",
       "      <td>-0.026328</td>\n",
       "      <td>-0.008449</td>\n",
       "      <td>-0.019163</td>\n",
       "      <td>0.074412</td>\n",
       "      <td>-0.039493</td>\n",
       "      <td>-0.068332</td>\n",
       "      <td>-0.092204</td>\n",
       "      <td>75.0</td>\n",
       "    </tr>\n",
       "    <tr>\n",
       "      <th>2</th>\n",
       "      <td>0.085299</td>\n",
       "      <td>0.050680</td>\n",
       "      <td>0.044451</td>\n",
       "      <td>-0.005670</td>\n",
       "      <td>-0.045599</td>\n",
       "      <td>-0.034194</td>\n",
       "      <td>-0.032356</td>\n",
       "      <td>-0.002592</td>\n",
       "      <td>0.002861</td>\n",
       "      <td>-0.025930</td>\n",
       "      <td>141.0</td>\n",
       "    </tr>\n",
       "    <tr>\n",
       "      <th>3</th>\n",
       "      <td>-0.089063</td>\n",
       "      <td>-0.044642</td>\n",
       "      <td>-0.011595</td>\n",
       "      <td>-0.036656</td>\n",
       "      <td>0.012191</td>\n",
       "      <td>0.024991</td>\n",
       "      <td>-0.036038</td>\n",
       "      <td>0.034309</td>\n",
       "      <td>0.022688</td>\n",
       "      <td>-0.009362</td>\n",
       "      <td>206.0</td>\n",
       "    </tr>\n",
       "    <tr>\n",
       "      <th>4</th>\n",
       "      <td>0.005383</td>\n",
       "      <td>-0.044642</td>\n",
       "      <td>-0.036385</td>\n",
       "      <td>0.021872</td>\n",
       "      <td>0.003935</td>\n",
       "      <td>0.015596</td>\n",
       "      <td>0.008142</td>\n",
       "      <td>-0.002592</td>\n",
       "      <td>-0.031988</td>\n",
       "      <td>-0.046641</td>\n",
       "      <td>135.0</td>\n",
       "    </tr>\n",
       "  </tbody>\n",
       "</table>\n",
       "</div>"
      ],
      "text/plain": [
       "        age       sex       bmi        bp        s1        s2        s3  \\\n",
       "0  0.038076  0.050680  0.061696  0.021872 -0.044223 -0.034821 -0.043401   \n",
       "1 -0.001882 -0.044642 -0.051474 -0.026328 -0.008449 -0.019163  0.074412   \n",
       "2  0.085299  0.050680  0.044451 -0.005670 -0.045599 -0.034194 -0.032356   \n",
       "3 -0.089063 -0.044642 -0.011595 -0.036656  0.012191  0.024991 -0.036038   \n",
       "4  0.005383 -0.044642 -0.036385  0.021872  0.003935  0.015596  0.008142   \n",
       "\n",
       "         s4        s5        s6  target  \n",
       "0 -0.002592  0.019907 -0.017646   151.0  \n",
       "1 -0.039493 -0.068332 -0.092204    75.0  \n",
       "2 -0.002592  0.002861 -0.025930   141.0  \n",
       "3  0.034309  0.022688 -0.009362   206.0  \n",
       "4 -0.002592 -0.031988 -0.046641   135.0  "
      ]
     },
     "execution_count": 7,
     "metadata": {},
     "output_type": "execute_result"
    }
   ],
   "source": [
    "import pandas as pd\n",
    "import numpy as np\n",
    "# print(\"컬럼 목록 : \",diabetes.feature_names)\n",
    "\n",
    "df = pd.DataFrame(data=diabetes.data, columns=diabetes.feature_names)\n",
    "df['target'] = diabetes.target\n",
    "df.head()\n",
    "# df.corr()"
   ]
  },
  {
   "attachments": {},
   "cell_type": "markdown",
   "metadata": {},
   "source": [
    "2. 모델에 입력할 데이터 X 준비하기\n",
    "    + df_X에 있는 값들을 numpy array로 변환해서 저장해주세요."
   ]
  },
  {
   "cell_type": "code",
   "execution_count": 8,
   "metadata": {},
   "outputs": [],
   "source": [
    "df_X = np.array(df_X)"
   ]
  },
  {
   "attachments": {},
   "cell_type": "markdown",
   "metadata": {},
   "source": [
    "3. 모델에 예측할 데이터 y 준비하기\n",
    "    + df_y에 있는 값들을 numpy array로 변환해서 저장해주세요."
   ]
  },
  {
   "cell_type": "code",
   "execution_count": 9,
   "metadata": {},
   "outputs": [],
   "source": [
    "df_y = np.array(df_y)"
   ]
  },
  {
   "attachments": {},
   "cell_type": "markdown",
   "metadata": {},
   "source": [
    "4. train 데이터와 test 데이터로 분리하기\n",
    "    + X와 y 데이터를 각각 train 데이터와 test 데이터로 분리해주세요."
   ]
  },
  {
   "cell_type": "code",
   "execution_count": 10,
   "metadata": {},
   "outputs": [
    {
     "name": "stdout",
     "output_type": "stream",
     "text": [
      "훈렵집합과 테스트집합의 입력값의 shape\n",
      " (353, 10) (89, 10)\n",
      "훈렵집합과 테스트집합의 정답(label)값의 shape\n",
      " (353,) (89,)\n"
     ]
    }
   ],
   "source": [
    "from sklearn.model_selection import train_test_split\n",
    "# test_size는 훈련집합과 테스트집합의 비율로(0.8:0.2)을 의미\n",
    "# random_state는 랜덤으로 훈련집합과 테스트집합을 나누기 때문에 반복 수행마다 \n",
    "#   달라지는 것을 방지하기  위한 랜덤의 seed번호이다. \n",
    "X_train, X_test, y_train, y_test = \\\n",
    "    train_test_split(df_X, df_y,test_size=0.2,random_state=41)\n",
    "\n",
    "print('훈렵집합과 테스트집합의 입력값의 shape\\n',X_train.shape,X_test.shape)\n",
    "print('훈렵집합과 테스트집합의 정답(label)값의 shape\\n',y_train.shape,y_test.shape)"
   ]
  },
  {
   "attachments": {},
   "cell_type": "markdown",
   "metadata": {},
   "source": [
    "5. 모델 준비하기\n",
    "    + 입력 데이터 개수에 맞는 가중치 W와 b를 준비해주세요.\n",
    "    + 모델 함수를 구현해주세요."
   ]
  },
  {
   "cell_type": "code",
   "execution_count": 11,
   "metadata": {},
   "outputs": [],
   "source": [
    "# 입력데이터의 컬럼이 10개이고 정답데이터의 컬럼이 1개이 때문에\n",
    "W = np.random.rand(X_train.shape[1])\n",
    "b = np.random.rand(1)\n",
    "\n",
    "def model(x,w,b):\n",
    "    pred = 0\n",
    "    for i in range(w.shape[0]):\n",
    "        pred += x[:,i]*w[i]\n",
    "    pred += b\n",
    "    return pred"
   ]
  },
  {
   "attachments": {},
   "cell_type": "markdown",
   "metadata": {},
   "source": [
    "6. 손실함수 loss 정의하기\n",
    "    + 손실함수를 MSE 함수로 정의해주세요."
   ]
  },
  {
   "cell_type": "code",
   "execution_count": 12,
   "metadata": {},
   "outputs": [],
   "source": [
    "# mean square error\n",
    "def MSE(a, b):\n",
    "    return ((a - b)**2).mean()"
   ]
  },
  {
   "attachments": {},
   "cell_type": "markdown",
   "metadata": {},
   "source": [
    "7. 기울기를 구하는 gradient 함수 구현하기\n",
    "    + 기울기를 계산하는 gradient 함수를 구현해주세요"
   ]
  },
  {
   "attachments": {},
   "cell_type": "markdown",
   "metadata": {},
   "source": [
    "$$\\frac{\\partial L}{\\partial W}=\\frac{1}{N}\\sum_{i=1}^N 2x_i(\\hat{y_{i}}-y_i)$$\n",
    "$$\\frac{\\partial L}{\\partial b}=\\frac{1}{N}\\sum_{i=1}^N 2(\\hat{y_{i}}-y_i)$$"
   ]
  },
  {
   "cell_type": "code",
   "execution_count": 13,
   "metadata": {},
   "outputs": [],
   "source": [
    "def gradient(x, w, b, y):\n",
    "    N = len(y)\n",
    "    y_pred = model(x, w, b)\n",
    "    \n",
    "    dW = 1/N * 2 * x.T.dot(y_pred - y) # 데이터들의 합은 행렬곱으로 진행됨\n",
    "    db = 2 * (y_pred - y).mean()\n",
    "    return dW, db"
   ]
  },
  {
   "attachments": {},
   "cell_type": "markdown",
   "metadata": {},
   "source": [
    "8. 하이퍼 파라미터인 학습률 설정하기\n",
    "    + 학습률, learning rate 를 설정해주세요\n",
    "    + 만약 학습이 잘 되지 않는다면 learning rate 값을 한번 여러 가지로 설정하며 실험해 보세요."
   ]
  },
  {
   "cell_type": "code",
   "execution_count": 14,
   "metadata": {},
   "outputs": [],
   "source": [
    "lr = 0.5"
   ]
  },
  {
   "attachments": {},
   "cell_type": "markdown",
   "metadata": {},
   "source": [
    "9. 모델 학습하기\n",
    "    + 정의된 손실함수와 기울기 함수로 모델을 학습해주세요.\n",
    "    + loss값이 충분히 떨어질 때까지 학습을 진행해주세요.\n",
    "    + 입력하는 데이터인 X에 들어가는 특성 컬럼들을 몇 개 빼도 괜찮습니다. 다양한 데이터로 실험해 보세요."
   ]
  },
  {
   "cell_type": "code",
   "execution_count": 15,
   "metadata": {},
   "outputs": [
    {
     "name": "stdout",
     "output_type": "stream",
     "text": [
      "Iteration 100 : Loss 3972.7025\n",
      "Iteration 200 : Loss 3453.2922\n",
      "Iteration 300 : Loss 3239.1464\n",
      "Iteration 400 : Loss 3121.7295\n",
      "Iteration 500 : Loss 3049.5483\n",
      "Iteration 600 : Loss 3003.4402\n",
      "Iteration 700 : Loss 2973.5314\n",
      "Iteration 800 : Loss 2953.9442\n",
      "Iteration 900 : Loss 2941.0047\n",
      "Iteration 1000 : Loss 2932.3769\n",
      "Iteration 1100 : Loss 2926.5635\n",
      "Iteration 1200 : Loss 2922.5986\n",
      "Iteration 1300 : Loss 2919.8561\n",
      "Iteration 1400 : Loss 2917.9277\n",
      "Iteration 1500 : Loss 2916.5458\n",
      "Iteration 1600 : Loss 2915.5337\n",
      "Iteration 1700 : Loss 2914.7741\n",
      "Iteration 1800 : Loss 2914.1887\n",
      "Iteration 1900 : Loss 2913.7246\n",
      "Iteration 2000 : Loss 2913.3458\n",
      "Iteration 2100 : Loss 2913.0278\n",
      "Iteration 2200 : Loss 2912.7535\n",
      "Iteration 2300 : Loss 2912.5110\n",
      "Iteration 2400 : Loss 2912.2919\n",
      "Iteration 2500 : Loss 2912.0903\n",
      "Iteration 2600 : Loss 2911.9018\n",
      "Iteration 2700 : Loss 2911.7233\n",
      "Iteration 2800 : Loss 2911.5525\n",
      "Iteration 2900 : Loss 2911.3877\n",
      "Iteration 3000 : Loss 2911.2276\n",
      "Iteration 3100 : Loss 2911.0713\n",
      "Iteration 3200 : Loss 2910.9180\n",
      "Iteration 3300 : Loss 2910.7673\n",
      "Iteration 3400 : Loss 2910.6186\n",
      "Iteration 3500 : Loss 2910.4716\n",
      "Iteration 3600 : Loss 2910.3262\n",
      "Iteration 3700 : Loss 2910.1820\n",
      "Iteration 3800 : Loss 2910.0389\n",
      "Iteration 3900 : Loss 2909.8969\n",
      "Iteration 4000 : Loss 2909.7558\n",
      "Iteration 4100 : Loss 2909.6155\n",
      "Iteration 4200 : Loss 2909.4760\n",
      "Iteration 4300 : Loss 2909.3372\n",
      "Iteration 4400 : Loss 2909.1991\n",
      "Iteration 4500 : Loss 2909.0616\n",
      "Iteration 4600 : Loss 2908.9248\n",
      "Iteration 4700 : Loss 2908.7886\n",
      "Iteration 4800 : Loss 2908.6529\n",
      "Iteration 4900 : Loss 2908.5179\n",
      "Iteration 5000 : Loss 2908.3834\n",
      "[ -31.65088094 -254.31139607  551.22769916  274.01238726 -156.04745365\n",
      "  -74.15640864 -204.22320616  143.45023125  462.33019634  118.7531929 ] [151.3508458]\n"
     ]
    }
   ],
   "source": [
    "losses_save = []\n",
    "iter_n = 5001\n",
    "\n",
    "# def remake_input(x):\n",
    "#     new_input = np.delete(x,1,axis=1)*100\n",
    "#     return new_input\n",
    "    \n",
    "# X_train_remake = remake_input(X_train)\n",
    "# X_test_remake = remake_input(X_test)\n",
    "\n",
    "# W = np.random.rand(X_train_remake.shape[1])\n",
    "# b = np.random.rand(1)\n",
    "\n",
    "for i in range(1, iter_n):\n",
    "    dW, db = gradient(X_train, W, b, y_train)\n",
    "    W -= lr * dW\n",
    "    b -= lr * db\n",
    "    \n",
    "    y_pred = model(X_train,W,b)\n",
    "    L = MSE(y_pred,y_train)\n",
    "    losses_save.append(L)\n",
    "    if i % 100 == 0:\n",
    "        print('Iteration %d : Loss %0.4f' % (i, L))\n",
    "print(W,b)"
   ]
  },
  {
   "attachments": {},
   "cell_type": "markdown",
   "metadata": {},
   "source": [
    "10. test 데이터에 대한 성능 확인하기\n",
    "    + test 데이터에 대한 성능을 확인해주세요."
   ]
  },
  {
   "cell_type": "code",
   "execution_count": 16,
   "metadata": {},
   "outputs": [
    {
     "name": "stdout",
     "output_type": "stream",
     "text": [
      "test데이터의 MSE값은 :  2839.5993751419896\n"
     ]
    }
   ],
   "source": [
    "test_pred = model(X_test, W, b)\n",
    "test_mse = MSE(test_pred,y_test)\n",
    "\n",
    "print(\"test데이터의 MSE값은 : \",test_mse)"
   ]
  },
  {
   "attachments": {},
   "cell_type": "markdown",
   "metadata": {},
   "source": [
    "11. 정답 데이터와 예측한 데이터 시각화하기\n",
    "    + x축에는 X 데이터의 첫 번째 컬럼을, y축에는 정답인 target 데이터를 넣어서 모델이 예측한 데이터를 시각화해 주세요."
   ]
  },
  {
   "cell_type": "code",
   "execution_count": 17,
   "metadata": {},
   "outputs": [
    {
     "data": {
      "image/png": "[encoded data removed]",
      "text/plain": [
       "<Figure size 640x480 with 1 Axes>"
      ]
     },
     "metadata": {},
     "output_type": "display_data"
    }
   ],
   "source": [
    "import matplotlib.pyplot as plt\n",
    "plt.figure()\n",
    "x = np.linspace(-0.1,0.1,10)\n",
    "plt.plot(x,x*W[0]+b)\n",
    "plt.scatter(X_test[:,0], y_test, label=\"Real\")\n",
    "plt.scatter(X_test[:,0], test_pred, label=\"prediction\")\n",
    "plt.legend()\n",
    "plt.show()"
   ]
  },
  {
   "cell_type": "code",
   "execution_count": 18,
   "metadata": {},
   "outputs": [
    {
     "data": {
      "image/png": "[encoded data removed]",
      "text/plain": [
       "<Figure size 640x480 with 1 Axes>"
      ]
     },
     "metadata": {},
     "output_type": "display_data"
    }
   ],
   "source": [
    "plt.figure()\n",
    "plt.plot(losses_save)\n",
    "plt.show()"
   ]
  }
 ],
 "metadata": {
  "kernelspec": {
   "display_name": "base",
   "language": "python",
   "name": "python3"
  },
  "language_info": {
   "codemirror_mode": {
    "name": "ipython",
    "version": 3
   },
   "file_extension": ".py",
   "mimetype": "text/x-python",
   "name": "python",
   "nbconvert_exporter": "python",
   "pygments_lexer": "ipython3",
   "version": "3.10.9"
  },
  "orig_nbformat": 4
 },
 "nbformat": 4,
 "nbformat_minor": 2
}
