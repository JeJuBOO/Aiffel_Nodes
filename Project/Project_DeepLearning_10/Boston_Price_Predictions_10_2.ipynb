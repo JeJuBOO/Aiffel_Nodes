{
 "cells": [
  {
   "cell_type": "markdown",
   "id": "a3614a7c",
   "metadata": {},
   "source": [
    "# 10-2. Boston 주택 가격 예측 모델\n",
    "\n",
    "## 데이터 로드 및 전처리"
   ]
  },
  {
   "cell_type": "code",
   "execution_count": 1,
   "id": "f1936654",
   "metadata": {},
   "outputs": [],
   "source": [
    "from tensorflow.keras import models, layers\n",
    "import matplotlib.pyplot as plt\n",
    "\n",
    "from keras.datasets import boston_housing"
   ]
  },
  {
   "cell_type": "code",
   "execution_count": 2,
   "id": "89fc90f4",
   "metadata": {},
   "outputs": [
    {
     "name": "stdout",
     "output_type": "stream",
     "text": [
      "404\n",
      "102\n"
     ]
    }
   ],
   "source": [
    "(train_data, train_labels), (test_data, test_labels) = boston_housing.load_data()\n",
    "\n",
    "# 데이터셋의 크기를 확인합니다.\n",
    "print(len(train_data))\n",
    "print(len(test_data))"
   ]
  },
  {
   "cell_type": "code",
   "execution_count": 3,
   "id": "5ed6e7de",
   "metadata": {},
   "outputs": [],
   "source": [
    "# 문제 1-1: 데이터셋의 전처리를 위해 표준화 작업을 수행합니다.\n",
    "# 먼저 입력 데이터의 각 특성의 평균을 뺍니다.\n",
    "train_data -= train_data.mean(axis=0)\n",
    "\n",
    "# 평균을 뺀 입력 데이터에서 표준편차를 나눕니다.\n",
    "# 데이터 특성의 중앙이 0에 가깝게 만들고, 표준편차가 1이 되게 만듭니다.\n",
    "train_data /= train_data.std(axis=0)\n",
    "\n",
    "# 테스트 데이터셋도 마찬가지로 평균을 빼고, 표준편차로 나눕니다.\n",
    "test_data -= test_data.mean(axis=0)\n",
    "test_data /= test_data.std(axis=0)"
   ]
  },
  {
   "cell_type": "markdown",
   "id": "133c3957",
   "metadata": {},
   "source": [
    "## 모델 구성 및 컴파일"
   ]
  },
  {
   "cell_type": "code",
   "execution_count": 4,
   "id": "b46c33b4",
   "metadata": {},
   "outputs": [],
   "source": [
    "# 문제 1-2: 주택 가격 예측을 위한 딥러닝 모델 구성 및 컴파일합니다.\n",
    "# input_shape은 (train_data.shape[1], )으로 구성합니다.\n",
    "# 회귀(예측)을 위한 모델이므로 loss를 mse, metrics를 mae로 사용합니다.\n",
    "model = models.Sequential()\n",
    "model.add(layers.Dense(128, activation='relu', input_shape=(train_data.shape[1],)))\n",
    "model.add(layers.Dense(64, activation='relu'))\n",
    "model.add(layers.Dense(1))\n",
    "\n",
    "model.compile(\n",
    "    optimizer='adam', \n",
    "    loss='mse', \n",
    "    metrics=['mae'])"
   ]
  },
  {
   "cell_type": "markdown",
   "id": "43a50391",
   "metadata": {},
   "source": [
    "## 모델 학습"
   ]
  },
  {
   "cell_type": "code",
   "execution_count": 5,
   "id": "1ef90385",
   "metadata": {},
   "outputs": [
    {
     "name": "stdout",
     "output_type": "stream",
     "text": [
      "Epoch 1/50\n",
      "46/46 [==============================] - 1s 5ms/step - loss: 469.3521 - mae: 19.4620 - val_loss: 229.5237 - val_mae: 13.7768\n",
      "Epoch 2/50\n",
      "46/46 [==============================] - 0s 2ms/step - loss: 139.1009 - mae: 8.8915 - val_loss: 40.0275 - val_mae: 5.3034\n",
      "Epoch 3/50\n",
      "46/46 [==============================] - 0s 2ms/step - loss: 42.9474 - mae: 4.7540 - val_loss: 18.8712 - val_mae: 3.7095\n",
      "Epoch 4/50\n",
      "46/46 [==============================] - 0s 2ms/step - loss: 25.6669 - mae: 3.5414 - val_loss: 15.8571 - val_mae: 3.2861\n",
      "Epoch 5/50\n",
      "46/46 [==============================] - 0s 2ms/step - loss: 21.1559 - mae: 3.2671 - val_loss: 14.4130 - val_mae: 3.0015\n",
      "Epoch 6/50\n",
      "46/46 [==============================] - 0s 2ms/step - loss: 18.4273 - mae: 3.0044 - val_loss: 13.8462 - val_mae: 2.8875\n",
      "Epoch 7/50\n",
      "46/46 [==============================] - 0s 3ms/step - loss: 16.5026 - mae: 2.8438 - val_loss: 12.3077 - val_mae: 2.6342\n",
      "Epoch 8/50\n",
      "46/46 [==============================] - 0s 2ms/step - loss: 14.9684 - mae: 2.7145 - val_loss: 13.0160 - val_mae: 2.8661\n",
      "Epoch 9/50\n",
      "46/46 [==============================] - 0s 3ms/step - loss: 13.8423 - mae: 2.6339 - val_loss: 10.8684 - val_mae: 2.6402\n",
      "Epoch 10/50\n",
      "46/46 [==============================] - 0s 2ms/step - loss: 13.2341 - mae: 2.5691 - val_loss: 10.4170 - val_mae: 2.5880\n",
      "Epoch 11/50\n",
      "46/46 [==============================] - 0s 2ms/step - loss: 12.4713 - mae: 2.4223 - val_loss: 10.3751 - val_mae: 2.3517\n",
      "Epoch 12/50\n",
      "46/46 [==============================] - 0s 2ms/step - loss: 12.1161 - mae: 2.5051 - val_loss: 9.6732 - val_mae: 2.6199\n",
      "Epoch 13/50\n",
      "46/46 [==============================] - 0s 2ms/step - loss: 11.5663 - mae: 2.3719 - val_loss: 9.0767 - val_mae: 2.4809\n",
      "Epoch 14/50\n",
      "46/46 [==============================] - 0s 2ms/step - loss: 11.1007 - mae: 2.3218 - val_loss: 9.2807 - val_mae: 2.4406\n",
      "Epoch 15/50\n",
      "46/46 [==============================] - 0s 2ms/step - loss: 11.0963 - mae: 2.2950 - val_loss: 9.0345 - val_mae: 2.5743\n",
      "Epoch 16/50\n",
      "46/46 [==============================] - 0s 2ms/step - loss: 10.6597 - mae: 2.2494 - val_loss: 8.3463 - val_mae: 2.4068\n",
      "Epoch 17/50\n",
      "46/46 [==============================] - 0s 2ms/step - loss: 10.1324 - mae: 2.2480 - val_loss: 8.5288 - val_mae: 2.5061\n",
      "Epoch 18/50\n",
      "46/46 [==============================] - 0s 3ms/step - loss: 10.2532 - mae: 2.2685 - val_loss: 8.5701 - val_mae: 2.5153\n",
      "Epoch 19/50\n",
      "46/46 [==============================] - 0s 2ms/step - loss: 10.0601 - mae: 2.2203 - val_loss: 7.8749 - val_mae: 2.2773\n",
      "Epoch 20/50\n",
      "46/46 [==============================] - 0s 2ms/step - loss: 9.8659 - mae: 2.1942 - val_loss: 7.8634 - val_mae: 2.4038\n",
      "Epoch 21/50\n",
      "46/46 [==============================] - 0s 2ms/step - loss: 9.3215 - mae: 2.1710 - val_loss: 7.8491 - val_mae: 2.3485\n",
      "Epoch 22/50\n",
      "46/46 [==============================] - 0s 2ms/step - loss: 9.3810 - mae: 2.1639 - val_loss: 8.2352 - val_mae: 2.4416\n",
      "Epoch 23/50\n",
      "46/46 [==============================] - 0s 3ms/step - loss: 9.3012 - mae: 2.1319 - val_loss: 6.9016 - val_mae: 2.1251\n",
      "Epoch 24/50\n",
      "46/46 [==============================] - 0s 3ms/step - loss: 9.0033 - mae: 2.1335 - val_loss: 8.1804 - val_mae: 2.4429\n",
      "Epoch 25/50\n",
      "46/46 [==============================] - 0s 2ms/step - loss: 9.0637 - mae: 2.1380 - val_loss: 7.3130 - val_mae: 2.2594\n",
      "Epoch 26/50\n",
      "46/46 [==============================] - 0s 2ms/step - loss: 8.6467 - mae: 2.0654 - val_loss: 8.0580 - val_mae: 2.4192\n",
      "Epoch 27/50\n",
      "46/46 [==============================] - 0s 3ms/step - loss: 8.6381 - mae: 2.0316 - val_loss: 7.6231 - val_mae: 2.3444\n",
      "Epoch 28/50\n",
      "46/46 [==============================] - 0s 3ms/step - loss: 8.5117 - mae: 2.0181 - val_loss: 7.4306 - val_mae: 2.3103\n",
      "Epoch 29/50\n",
      "46/46 [==============================] - 0s 3ms/step - loss: 8.3853 - mae: 2.0295 - val_loss: 7.2148 - val_mae: 2.0851\n",
      "Epoch 30/50\n",
      "46/46 [==============================] - 0s 3ms/step - loss: 8.2321 - mae: 2.0051 - val_loss: 7.4304 - val_mae: 2.2655\n",
      "Epoch 31/50\n",
      "46/46 [==============================] - 0s 3ms/step - loss: 7.9255 - mae: 2.0024 - val_loss: 7.6727 - val_mae: 2.3241\n",
      "Epoch 32/50\n",
      "46/46 [==============================] - 0s 2ms/step - loss: 8.1881 - mae: 1.9724 - val_loss: 6.8008 - val_mae: 2.0953\n",
      "Epoch 33/50\n",
      "46/46 [==============================] - 0s 2ms/step - loss: 8.0039 - mae: 2.0372 - val_loss: 7.4407 - val_mae: 2.2815\n",
      "Epoch 34/50\n",
      "46/46 [==============================] - 0s 2ms/step - loss: 7.7837 - mae: 1.9521 - val_loss: 6.7667 - val_mae: 2.0907\n",
      "Epoch 35/50\n",
      "46/46 [==============================] - 0s 3ms/step - loss: 7.6500 - mae: 1.9265 - val_loss: 7.3071 - val_mae: 2.2855\n",
      "Epoch 36/50\n",
      "46/46 [==============================] - 0s 2ms/step - loss: 7.7841 - mae: 1.9548 - val_loss: 6.5857 - val_mae: 2.0335\n",
      "Epoch 37/50\n",
      "46/46 [==============================] - 0s 2ms/step - loss: 7.2319 - mae: 1.8758 - val_loss: 6.7963 - val_mae: 2.1518\n",
      "Epoch 38/50\n",
      "46/46 [==============================] - 0s 2ms/step - loss: 7.0920 - mae: 1.8537 - val_loss: 6.9944 - val_mae: 2.2450\n",
      "Epoch 39/50\n",
      "46/46 [==============================] - 0s 2ms/step - loss: 7.2011 - mae: 1.8567 - val_loss: 7.0190 - val_mae: 2.0288\n",
      "Epoch 40/50\n",
      "46/46 [==============================] - 0s 3ms/step - loss: 7.1611 - mae: 1.8853 - val_loss: 7.1598 - val_mae: 2.2512\n",
      "Epoch 41/50\n",
      "46/46 [==============================] - 0s 2ms/step - loss: 7.2201 - mae: 1.8748 - val_loss: 6.8422 - val_mae: 2.1594\n",
      "Epoch 42/50\n",
      "46/46 [==============================] - 0s 2ms/step - loss: 6.8973 - mae: 1.8010 - val_loss: 7.9487 - val_mae: 2.3349\n",
      "Epoch 43/50\n",
      "46/46 [==============================] - 0s 3ms/step - loss: 7.0100 - mae: 1.8359 - val_loss: 6.8701 - val_mae: 2.1842\n",
      "Epoch 44/50\n",
      "46/46 [==============================] - 0s 3ms/step - loss: 6.8020 - mae: 1.8211 - val_loss: 6.6094 - val_mae: 1.9774\n",
      "Epoch 45/50\n",
      "46/46 [==============================] - 0s 2ms/step - loss: 7.1136 - mae: 1.8832 - val_loss: 6.8357 - val_mae: 2.1970\n",
      "Epoch 46/50\n",
      "46/46 [==============================] - 0s 2ms/step - loss: 6.8579 - mae: 1.8476 - val_loss: 6.2127 - val_mae: 1.9619\n",
      "Epoch 47/50\n",
      "46/46 [==============================] - 0s 2ms/step - loss: 6.4430 - mae: 1.8177 - val_loss: 7.3052 - val_mae: 2.2889\n",
      "Epoch 48/50\n",
      "46/46 [==============================] - 0s 2ms/step - loss: 6.4844 - mae: 1.7964 - val_loss: 6.4775 - val_mae: 2.1369\n",
      "Epoch 49/50\n",
      "46/46 [==============================] - 0s 2ms/step - loss: 6.4221 - mae: 1.8234 - val_loss: 6.2077 - val_mae: 2.0082\n",
      "Epoch 50/50\n",
      "46/46 [==============================] - 0s 2ms/step - loss: 6.1036 - mae: 1.7328 - val_loss: 7.5614 - val_mae: 2.3594\n"
     ]
    }
   ],
   "source": [
    "# 문제 1-3: 예측을 위한 딥러닝 모델을 학습합니다.\n",
    "history = model.fit(train_data, train_labels, epochs=50, batch_size=8, validation_split=0.1)"
   ]
  },
  {
   "cell_type": "code",
   "execution_count": 6,
   "id": "9d1b2b0a",
   "metadata": {},
   "outputs": [
    {
     "data": {
      "image/png": "[encoded data removed]",
      "text/plain": [
       "<Figure size 864x360 with 2 Axes>"
      ]
     },
     "metadata": {},
     "output_type": "display_data"
    }
   ],
   "source": [
    "# 모델 학습 히스토리에서 loss, val_loss, mae, val_mae를 차트로 보여줍니다.\n",
    "plt.style.use('seaborn-white')\n",
    "\n",
    "history_dict = history.history\n",
    "\n",
    "loss = history_dict['loss']\n",
    "val_loss = history_dict['val_loss']\n",
    "\n",
    "epochs = range(1, len(loss) + 1)\n",
    "fig = plt.figure(figsize=(12, 5))\n",
    "\n",
    "ax1 = fig.add_subplot(1, 2, 1)\n",
    "ax1.plot(epochs, loss, 'b-', label='train_loss')\n",
    "ax1.plot(epochs, val_loss, 'r-', label='val_loss')\n",
    "ax1.set_title('Train and Validation Loss')\n",
    "ax1.set_xlabel('Epochs')\n",
    "ax1.set_ylabel('Loss')\n",
    "ax1.grid()\n",
    "ax1.legend()\n",
    "\n",
    "mae = history_dict['mae']\n",
    "val_mae = history_dict['val_mae']\n",
    "\n",
    "ax2 = fig.add_subplot(1, 2, 2)\n",
    "ax2.plot(epochs, mae, 'b-', label='train_mae')\n",
    "ax2.plot(epochs, val_mae, 'r-', label='val_mae')\n",
    "ax2.set_title('Train and Validation MAE')\n",
    "ax2.set_xlabel('Epochs')\n",
    "ax2.set_ylabel('Accuracy')\n",
    "ax2.grid()\n",
    "ax2.legend()\n",
    "\n",
    "plt.show()"
   ]
  },
  {
   "cell_type": "markdown",
   "id": "dc5055d4",
   "metadata": {},
   "source": [
    "## 모델 평가 및 예측"
   ]
  },
  {
   "cell_type": "code",
   "execution_count": 7,
   "id": "fd0d9ea9",
   "metadata": {},
   "outputs": [
    {
     "name": "stdout",
     "output_type": "stream",
     "text": [
      "4/4 [==============================] - 0s 2ms/step - loss: 17.1164 - mae: 2.8575\n",
      "테스트 데이터 loss :  17.11639976501465\n",
      "테스트 데이터 accuracy :  2.857484817504883\n"
     ]
    }
   ],
   "source": [
    "# 문제 1-4: 테스트 데이터셋을 이용해 모델을 평가합니다.\n",
    "test_loss, test_mae = model.evaluate(test_data, test_labels)\n",
    "print(\"테스트 데이터 loss : \", test_loss)\n",
    "print(\"테스트 데이터 accuracy : \", test_mae)"
   ]
  }
 ],
 "metadata": {
  "kernelspec": {
   "display_name": "Python 3 (ipykernel)",
   "language": "python",
   "name": "python3"
  },
  "language_info": {
   "codemirror_mode": {
    "name": "ipython",
    "version": 3
   },
   "file_extension": ".py",
   "mimetype": "text/x-python",
   "name": "python",
   "nbconvert_exporter": "python",
   "pygments_lexer": "ipython3",
   "version": "3.9.7"
  }
 },
 "nbformat": 4,
 "nbformat_minor": 5
}
