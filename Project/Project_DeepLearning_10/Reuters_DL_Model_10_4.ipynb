{
 "cells": [
  {
   "cell_type": "markdown",
   "id": "e0b9e930",
   "metadata": {},
   "source": [
    "# Reuters 딥러닝 모델\n",
    "\n",
    "## 데이터 로드 및 전처리"
   ]
  },
  {
   "cell_type": "code",
   "execution_count": 1,
   "id": "274d483e",
   "metadata": {},
   "outputs": [],
   "source": [
    "import numpy as np\n",
    "import matplotlib.pyplot as plt\n",
    "from sklearn.model_selection import train_test_split\n",
    "\n",
    "from tensorflow.keras.utils import to_categorical\n",
    "from tensorflow.keras import models, layers\n",
    "from tensorflow.keras import callbacks\n",
    "from tensorflow.keras import utils\n",
    "from keras.datasets import reuters"
   ]
  },
  {
   "cell_type": "code",
   "execution_count": 2,
   "id": "de12a99b",
   "metadata": {},
   "outputs": [
    {
     "name": "stdout",
     "output_type": "stream",
     "text": [
      "6736\n",
      "2246\n",
      "2246\n",
      "46\n"
     ]
    }
   ],
   "source": [
    "# 문제 2-1: reuters 데이터셋을 로드하고, 훈련 데이터셋에서 25%를 검증 데이터셋으로 분리합니다.\n",
    "(train_data, train_labels), (test_data, test_labels) = reuters.load_data(num_words=10000)\n",
    "\n",
    "train_data, val_data, train_labels, val_labels = train_test_split(train_data, train_labels, test_size=0.25, random_state=77)\n",
    "\n",
    "# 훈련, 검증, 테스트 데이터와 레이블 종류가 몇 개인지 출력합니다.\n",
    "print(len(train_data))\n",
    "print(len(val_data))\n",
    "print(len(test_data))\n",
    "print(len(set(train_labels)))"
   ]
  },
  {
   "cell_type": "code",
   "execution_count": 5,
   "id": "cd625a98",
   "metadata": {},
   "outputs": [],
   "source": [
    "# 문제 2-2: 텍스트 데이터의 전처리를 위해서 각 데이터셋마다 원-핫 인코딩을 수행합니다.\n",
    "def one_hot_encoding(data, dim=10000):\n",
    "    one_hot_data = np.zeros((len(data), dim))\n",
    "    for idx, seq in enumerate(data):\n",
    "        one_hot_data[idx,seq] = 1.\n",
    "    return one_hot_data\n",
    "\n",
    "x_train = one_hot_encoding(train_data)\n",
    "x_val = one_hot_encoding(val_data)\n",
    "x_test = one_hot_encoding(test_data)\n",
    "\n",
    "# 레이블 데이터들은 범주형 형태로 to_categorical() 함수를 사용해 변환합니다.\n",
    "y_train = to_categorical(train_labels)\n",
    "y_val = to_categorical(val_labels)\n",
    "y_test = to_categorical(test_labels)"
   ]
  },
  {
   "cell_type": "markdown",
   "id": "62be5619",
   "metadata": {},
   "source": [
    "## 모델 구성 및 컴파일"
   ]
  },
  {
   "cell_type": "code",
   "execution_count": 7,
   "id": "3e564f3b",
   "metadata": {},
   "outputs": [
    {
     "name": "stdout",
     "output_type": "stream",
     "text": [
      "Model: \"sequential_1\"\n",
      "_________________________________________________________________\n",
      "Layer (type)                 Output Shape              Param #   \n",
      "=================================================================\n",
      "dense_3 (Dense)              (None, 128)               1280128   \n",
      "_________________________________________________________________\n",
      "batch_normalization_2 (Batch (None, 128)               512       \n",
      "_________________________________________________________________\n",
      "dropout_2 (Dropout)          (None, 128)               0         \n",
      "_________________________________________________________________\n",
      "dense_4 (Dense)              (None, 64)                8256      \n",
      "_________________________________________________________________\n",
      "batch_normalization_3 (Batch (None, 64)                256       \n",
      "_________________________________________________________________\n",
      "dropout_3 (Dropout)          (None, 64)                0         \n",
      "_________________________________________________________________\n",
      "dense_5 (Dense)              (None, 46)                2990      \n",
      "=================================================================\n",
      "Total params: 1,292,142\n",
      "Trainable params: 1,291,758\n",
      "Non-trainable params: 384\n",
      "_________________________________________________________________\n"
     ]
    }
   ],
   "source": [
    "# 문제 2-3: 빠른 학습과 과대적합을 방지하기 위해 BatchNormalization과 Dropout을 적용한 딥러닝 모델을 구성합니다.\n",
    "\n",
    "model2 = models.Sequential()\n",
    "model2.add(layers.Dense(128, activation='relu', input_shape=(x_train.shape[1],)))\n",
    "model2.add(layers.BatchNormalization())\n",
    "model2.add(layers.Dropout(0.3))\n",
    "model2.add(layers.Dense(64, activation='relu'))\n",
    "model2.add(layers.BatchNormalization())\n",
    "model2.add(layers.Dropout(0.3))\n",
    "model2.add(layers.Dense(46, activation='softmax'))\n",
    "\n",
    "model2.summary()"
   ]
  },
  {
   "cell_type": "code",
   "execution_count": 8,
   "id": "394069d5",
   "metadata": {},
   "outputs": [
    {
     "name": "stdout",
     "output_type": "stream",
     "text": [
      "Epoch 1/60\n",
      "53/53 [==============================] - 2s 14ms/step - loss: 2.2423 - accuracy: 0.5428 - val_loss: 2.7189 - val_accuracy: 0.7195\n",
      "Epoch 2/60\n",
      "53/53 [==============================] - 0s 7ms/step - loss: 1.0312 - accuracy: 0.7957 - val_loss: 2.0887 - val_accuracy: 0.7150\n",
      "Epoch 3/60\n",
      "53/53 [==============================] - 0s 7ms/step - loss: 0.6516 - accuracy: 0.8723 - val_loss: 1.5986 - val_accuracy: 0.7551\n",
      "Epoch 4/60\n",
      "53/53 [==============================] - 0s 7ms/step - loss: 0.4536 - accuracy: 0.9102 - val_loss: 1.2962 - val_accuracy: 0.7636\n",
      "Epoch 5/60\n",
      "53/53 [==============================] - 0s 7ms/step - loss: 0.3398 - accuracy: 0.9341 - val_loss: 1.0786 - val_accuracy: 0.7952\n",
      "Epoch 6/60\n",
      "53/53 [==============================] - 0s 7ms/step - loss: 0.2763 - accuracy: 0.9455 - val_loss: 0.9767 - val_accuracy: 0.8019\n",
      "Epoch 7/60\n",
      "53/53 [==============================] - 0s 7ms/step - loss: 0.2500 - accuracy: 0.9492 - val_loss: 0.9383 - val_accuracy: 0.8166\n",
      "Epoch 8/60\n",
      "53/53 [==============================] - 0s 7ms/step - loss: 0.2065 - accuracy: 0.9522 - val_loss: 0.9489 - val_accuracy: 0.8148\n",
      "Epoch 9/60\n",
      "53/53 [==============================] - 0s 7ms/step - loss: 0.1937 - accuracy: 0.9569 - val_loss: 0.9911 - val_accuracy: 0.8237\n",
      "Epoch 10/60\n",
      "53/53 [==============================] - 0s 6ms/step - loss: 0.1767 - accuracy: 0.9572 - val_loss: 1.0306 - val_accuracy: 0.8157\n",
      "Epoch 11/60\n",
      "53/53 [==============================] - 0s 6ms/step - loss: 0.1663 - accuracy: 0.9605 - val_loss: 1.0349 - val_accuracy: 0.8192\n",
      "Epoch 12/60\n",
      "53/53 [==============================] - 0s 7ms/step - loss: 0.1532 - accuracy: 0.9632 - val_loss: 1.0679 - val_accuracy: 0.8152\n"
     ]
    }
   ],
   "source": [
    "# 문제 2-4: ModelCheckpoint와 EarlyStopping 콜백 함수를 적용하여 모델 학습을 진행합니다.\n",
    "checkpoint_cb = callbacks.ModelCheckpoint(\"model2.h5\", save_best_only=True)\n",
    "\n",
    "callbacks_es = callbacks.EarlyStopping(patience=5, restore_best_weights=True)\n",
    "\n",
    "model2.compile(optimizer='adam', \n",
    "                loss='categorical_crossentropy', \n",
    "                metrics=['accuracy'])\n",
    "\n",
    "history2 = model2.fit(x_train, \n",
    "                    y_train,\n",
    "                    epochs=60,\n",
    "                    batch_size=128,\n",
    "                    validation_data=(x_val, y_val),\n",
    "                    callbacks=[checkpoint_cb, callbacks_es])      "
   ]
  },
  {
   "cell_type": "code",
   "execution_count": 9,
   "id": "5731902d",
   "metadata": {},
   "outputs": [
    {
     "data": {
      "image/png": "[encoded data removed]",
      "text/plain": [
       "<Figure size 864x360 with 2 Axes>"
      ]
     },
     "metadata": {},
     "output_type": "display_data"
    }
   ],
   "source": [
    "# 학습 히스토리의 `loss`, `val_loss`, `accuracy`, `val_accuracy`를 차트로 시각화합니다.\n",
    "plt.style.use('seaborn-white')\n",
    "\n",
    "history_dict = history2.history\n",
    "\n",
    "loss = history_dict['loss']\n",
    "val_loss = history_dict['val_loss']\n",
    "\n",
    "epochs = range(1, len(loss) + 1)\n",
    "fig = plt.figure(figsize=(12, 5))\n",
    "\n",
    "ax1 = fig.add_subplot(1, 2, 1)\n",
    "ax1.plot(epochs, loss, 'b-', label='train_loss')\n",
    "ax1.plot(epochs, val_loss, 'r-', label='val_loss')\n",
    "ax1.set_title('Train and Validation Loss')\n",
    "ax1.set_xlabel('Epochs')\n",
    "ax1.set_ylabel('Loss')\n",
    "ax1.grid()\n",
    "ax1.legend()\n",
    "\n",
    "accuracy = history_dict['accuracy']\n",
    "val_accuracy = history_dict['val_accuracy']\n",
    "\n",
    "ax2 = fig.add_subplot(1, 2, 2)\n",
    "ax2.plot(epochs, accuracy, 'b-', label='train_accuracy')\n",
    "ax2.plot(epochs, val_accuracy, 'r-', label='val_accuracy')\n",
    "ax2.set_title('Train and Validation Accuracy')\n",
    "ax2.set_xlabel('Epochs')\n",
    "ax2.set_ylabel('Accuracy')\n",
    "ax2.grid()\n",
    "ax2.legend()\n",
    "\n",
    "plt.show()"
   ]
  },
  {
   "cell_type": "markdown",
   "id": "da338631",
   "metadata": {},
   "source": [
    "## 모델 평가 및 예측"
   ]
  },
  {
   "cell_type": "code",
   "execution_count": 10,
   "id": "73beeb14",
   "metadata": {},
   "outputs": [
    {
     "name": "stdout",
     "output_type": "stream",
     "text": [
      "71/71 [==============================] - 0s 3ms/step - loss: 1.0188 - accuracy: 0.7912\n",
      "테스트 데이터 loss :  1.0188058614730835\n",
      "테스트 데이터 accuracy :  0.7911843061447144\n"
     ]
    }
   ],
   "source": [
    "# 문제 2-5: 테스트 데이터셋을 이용해 모델을 평가합니다.\n",
    "test_loss, test_accuracy  = model2.evaluate(x_test, y_test)\n",
    "print(\"테스트 데이터 loss : \", test_loss)\n",
    "print(\"테스트 데이터 accuracy : \", test_accuracy )"
   ]
  }
 ],
 "metadata": {
  "kernelspec": {
   "display_name": "Python 3 (ipykernel)",
   "language": "python",
   "name": "python3"
  },
  "language_info": {
   "codemirror_mode": {
    "name": "ipython",
    "version": 3
   },
   "file_extension": ".py",
   "mimetype": "text/x-python",
   "name": "python",
   "nbconvert_exporter": "python",
   "pygments_lexer": "ipython3",
   "version": "3.9.7"
  }
 },
 "nbformat": 4,
 "nbformat_minor": 5
}
